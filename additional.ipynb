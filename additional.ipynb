{
  "nbformat": 4,
  "nbformat_minor": 0,
  "metadata": {
    "colab": {
      "provenance": []
    },
    "kernelspec": {
      "name": "python3",
      "display_name": "Python 3"
    },
    "language_info": {
      "name": "python"
    }
  },
  "cells": [
    {
      "cell_type": "code",
      "execution_count": null,
      "metadata": {
        "colab": {
          "base_uri": "https://localhost:8080/"
        },
        "id": "Pak7A7l24lzu",
        "outputId": "89168f17-464a-412c-9806-3104e2b634e1"
      },
      "outputs": [
        {
          "output_type": "stream",
          "name": "stdout",
          "text": [
            "Requirement already satisfied: pydicom in /usr/local/lib/python3.10/dist-packages (2.4.4)\n"
          ]
        }
      ],
      "source": [
        "pip install pydicom"
      ]
    },
    {
      "cell_type": "code",
      "source": [
        "from pydicom import dcmread"
      ],
      "metadata": {
        "id": "eklYhvZf7SCU"
      },
      "execution_count": null,
      "outputs": []
    },
    {
      "cell_type": "code",
      "source": [
        "fpath = get_testdata_file(\"/content/1.3.46.670589.61.128.2.20240312103822112061900071099732022.dcm\")"
      ],
      "metadata": {
        "colab": {
          "base_uri": "https://localhost:8080/",
          "height": 179
        },
        "id": "7FUv5F2B7Fil",
        "outputId": "dbcc194c-b426-43fa-c674-b9f520b9042d"
      },
      "execution_count": null,
      "outputs": [
        {
          "output_type": "error",
          "ename": "NameError",
          "evalue": "name 'get_testdata_file' is not defined",
          "traceback": [
            "\u001b[0;31m---------------------------------------------------------------------------\u001b[0m",
            "\u001b[0;31mNameError\u001b[0m                                 Traceback (most recent call last)",
            "\u001b[0;32m<ipython-input-6-94460fb35fef>\u001b[0m in \u001b[0;36m<cell line: 1>\u001b[0;34m()\u001b[0m\n\u001b[0;32m----> 1\u001b[0;31m \u001b[0mfpath\u001b[0m \u001b[0;34m=\u001b[0m \u001b[0mget_testdata_file\u001b[0m\u001b[0;34m(\u001b[0m\u001b[0;34m\"/content/1.3.46.670589.61.128.2.20240312103822112061900071099732022.dcm\"\u001b[0m\u001b[0;34m)\u001b[0m\u001b[0;34m\u001b[0m\u001b[0;34m\u001b[0m\u001b[0m\n\u001b[0m",
            "\u001b[0;31mNameError\u001b[0m: name 'get_testdata_file' is not defined"
          ]
        }
      ]
    },
    {
      "cell_type": "code",
      "source": [
        "ds = dcmread(\"/content/1.3.46.670589.61.128.2.20240312103822112061900071099732022.dcm\")"
      ],
      "metadata": {
        "id": "KMeUlLj45s-e"
      },
      "execution_count": null,
      "outputs": []
    },
    {
      "cell_type": "code",
      "source": [
        "ds.ScanOptions"
      ],
      "metadata": {
        "colab": {
          "base_uri": "https://localhost:8080/",
          "height": 35
        },
        "id": "x_qM-Ap-6rX9",
        "outputId": "392cedff-8799-454d-a14d-ec3c0c85d6c4"
      },
      "execution_count": null,
      "outputs": [
        {
          "output_type": "execute_result",
          "data": {
            "text/plain": [
              "'HELICAL'"
            ],
            "application/vnd.google.colaboratory.intrinsic+json": {
              "type": "string"
            }
          },
          "metadata": {},
          "execution_count": 17
        }
      ]
    },
    {
      "cell_type": "code",
      "source": [
        "import os\n",
        "import shutil\n",
        "import pydicom\n",
        "\n",
        "# Define the source directory and target directories\n",
        "source_dir = 'path/to/dicom/files'\n",
        "target_dirs = {\n",
        "    'A': 'path/to/folder/A',\n",
        "    'B': 'path/to/folder/B',\n",
        "    'C': 'path/to/folder/C'\n",
        "}\n",
        "\n",
        "# Ensure the target directories exist\n",
        "for dir_path in target_dirs.values():\n",
        "    os.makedirs(dir_path, exist_ok=True)\n",
        "\n",
        "# Process each DICOM file in the source directory\n",
        "for filename in os.listdir(source_dir):\n",
        "    if filename.lower().endswith('.dcm'):  # Ensure it's a DICOM file\n",
        "        file_path = os.path.join(source_dir, filename)\n",
        "\n",
        "        try:\n",
        "            # Read the DICOM file\n",
        "            dicom_data = pydicom.dcmread(file_path)\n",
        "\n",
        "            # Extract the ScanProtocol value\n",
        "            scan_protocol = dicom_data.get('ScanProtocol', None)\n",
        "\n",
        "            if scan_protocol is not None and scan_protocol in target_dirs:\n",
        "                # Determine the target folder\n",
        "                target_dir = target_dirs[scan_protocol]\n",
        "\n",
        "                # Move the file\n",
        "                shutil.move(file_path, os.path.join(target_dir, filename))\n",
        "                print(f'Moved {filename} to {target_dir}')\n",
        "            else:\n",
        "                print(f'ScanProtocol not found or invalid in {filename}')\n",
        "\n",
        "        except Exception as e:\n",
        "            print(f'Error processing {filename}: {e}')\n"
      ],
      "metadata": {
        "id": "htvfv8te_fOE"
      },
      "execution_count": null,
      "outputs": []
    }
  ]
}